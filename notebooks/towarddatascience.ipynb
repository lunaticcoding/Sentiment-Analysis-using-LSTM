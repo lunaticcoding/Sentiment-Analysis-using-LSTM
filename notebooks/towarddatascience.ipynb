{
 "cells": [
  {
   "cell_type": "code",
   "execution_count": 59,
   "metadata": {
    "collapsed": true
   },
   "outputs": [],
   "source": [
    "import numpy as np\n",
    "import pandas as pd\n",
    "import os\n",
    "\n",
    "from string import punctuation\n",
    "from collections import Counter\n",
    "\n"
   ]
  },
  {
   "cell_type": "code",
   "execution_count": 44,
   "metadata": {},
   "outputs": [
    {
     "name": "stdout",
     "output_type": "stream",
     "text": [
      "data/train/pos.txt\n"
     ]
    },
    {
     "name": "stdout",
     "output_type": "stream",
     "text": [
      "data/train/neg.txt\n"
     ]
    },
    {
     "name": "stdout",
     "output_type": "stream",
     "text": [
      "data/test/pos.txt\n"
     ]
    },
    {
     "name": "stdout",
     "output_type": "stream",
     "text": [
      "data/test/neg.txt\n"
     ]
    }
   ],
   "source": [
    "def rearrange_data(train_test, label):\n",
    "    content = []\n",
    "    for filepath in os.listdir('data/' + train_test + '/' + label):\n",
    "        with open(('data/' + train_test + '/' + label + '/' + filepath), 'r') as file:\n",
    "            review = file.read()\n",
    "            content.append(review)\n",
    "    with open('data/' + train_test + '/' + label + '.txt', 'w') as target_file:\n",
    "        target_file.write('\\n'.join(content))\n",
    "        print(target_file.name)\n",
    "\n",
    "\n",
    "rearrange_data('train', 'pos')\n",
    "rearrange_data('train', 'neg')\n",
    "\n",
    "rearrange_data('test', 'pos')\n",
    "rearrange_data('test', 'neg')\n",
    "\n"
   ]
  },
  {
   "cell_type": "code",
   "execution_count": 58,
   "metadata": {},
   "outputs": [
    {
     "data": {
      "text/html": [
       "<div>\n",
       "<style scoped>\n",
       "    .dataframe tbody tr th:only-of-type {\n",
       "        vertical-align: middle;\n",
       "    }\n",
       "\n",
       "    .dataframe tbody tr th {\n",
       "        vertical-align: top;\n",
       "    }\n",
       "\n",
       "    .dataframe thead th {\n",
       "        text-align: right;\n",
       "    }\n",
       "</style>\n",
       "<table border=\"1\" class=\"dataframe\">\n",
       "  <thead>\n",
       "    <tr style=\"text-align: right;\">\n",
       "      <th></th>\n",
       "      <th>review</th>\n",
       "      <th>sentiment</th>\n",
       "    </tr>\n",
       "  </thead>\n",
       "  <tbody>\n",
       "    <tr>\n",
       "      <th>24995</th>\n",
       "      <td>my comments may be a bit of a spoiler for what...</td>\n",
       "      <td>-1</td>\n",
       "    </tr>\n",
       "    <tr>\n",
       "      <th>24996</th>\n",
       "      <td>the saucy misadventures of four au pairs who a...</td>\n",
       "      <td>-1</td>\n",
       "    </tr>\n",
       "    <tr>\n",
       "      <th>24997</th>\n",
       "      <td>oh those italians assuming that movies about a...</td>\n",
       "      <td>-1</td>\n",
       "    </tr>\n",
       "    <tr>\n",
       "      <th>24998</th>\n",
       "      <td>eight academy nominations its beyond belief i ...</td>\n",
       "      <td>-1</td>\n",
       "    </tr>\n",
       "    <tr>\n",
       "      <th>24999</th>\n",
       "      <td>not that i dislike childrens movies but this w...</td>\n",
       "      <td>-1</td>\n",
       "    </tr>\n",
       "  </tbody>\n",
       "</table>\n",
       "</div>"
      ],
      "text/plain": [
       "<div>\n",
       "<style scoped>\n",
       "    .dataframe tbody tr th:only-of-type {\n",
       "        vertical-align: middle;\n",
       "    }\n",
       "\n",
       "    .dataframe tbody tr th {\n",
       "        vertical-align: top;\n",
       "    }\n",
       "\n",
       "    .dataframe thead th {\n",
       "        text-align: right;\n",
       "    }\n",
       "</style>\n",
       "<table border=\"1\" class=\"dataframe\">\n",
       "  <thead>\n",
       "    <tr style=\"text-align: right;\">\n",
       "      <th></th>\n",
       "      <th>review</th>\n",
       "      <th>sentiment</th>\n",
       "    </tr>\n",
       "  </thead>\n",
       "  <tbody>\n",
       "    <tr>\n",
       "      <th>24995</th>\n",
       "      <td>my comments may be a bit of a spoiler for what...</td>\n",
       "      <td>-1</td>\n",
       "    </tr>\n",
       "    <tr>\n",
       "      <th>24996</th>\n",
       "      <td>the saucy misadventures of four au pairs who a...</td>\n",
       "      <td>-1</td>\n",
       "    </tr>\n",
       "    <tr>\n",
       "      <th>24997</th>\n",
       "      <td>oh those italians assuming that movies about a...</td>\n",
       "      <td>-1</td>\n",
       "    </tr>\n",
       "    <tr>\n",
       "      <th>24998</th>\n",
       "      <td>eight academy nominations its beyond belief i ...</td>\n",
       "      <td>-1</td>\n",
       "    </tr>\n",
       "    <tr>\n",
       "      <th>24999</th>\n",
       "      <td>not that i dislike childrens movies but this w...</td>\n",
       "      <td>-1</td>\n",
       "    </tr>\n",
       "  </tbody>\n",
       "</table>\n",
       "</div>"
      ]
     },
     "execution_count": 58,
     "metadata": {},
     "output_type": "execute_result"
    }
   ],
   "source": [
    "class DataGenerator():\n",
    "    def __init__(self):\n",
    "        self.train = pd.DataFrame(columns=['review', 'sentiment'])\n",
    "        self.train = self.train.append(self.create_df_from_filepath('train', 'pos.txt'), ignore_index=True)\n",
    "        self.train = self.train.append(self.create_df_from_filepath('train', 'neg.txt'), ignore_index=True)\n",
    "        \n",
    "        self.test = pd.DataFrame(columns=['review', 'sentiment'])\n",
    "        self.test = self.test.append(self.create_df_from_filepath('test', 'pos.txt'), ignore_index=True)\n",
    "        self.test = self.test.append(self.create_df_from_filepath('test', 'neg.txt'), ignore_index=True)\n",
    "        \n",
    "        self.preprocessing(self.train)\n",
    "        self.preprocessing(self.test)\n",
    "        \n",
    "    @staticmethod\n",
    "    def create_df_from_filepath(train_test, filename):\n",
    "        with open('data/' + train_test + '/' + filename, 'r') as file:\n",
    "            review = file.read().split('\\n')\n",
    "            review = pd.DataFrame({'review': review})\n",
    "            review['sentiment'] = pd.Series(np.array([-1]*len(review)), index=review.index)\n",
    "            return review\n",
    "        \n",
    "    @staticmethod\n",
    "    def preprocessing(df):\n",
    "        df['review'] = df['review'].apply(lambda x: x.lower())\n",
    "        df['review'] = df['review'].apply(lambda x: ''.join([c for c in x if c not in punctuation]))\n",
    "        #all_text = ''.join([c for c in reviews if c not in punctuation])\n",
    "    \n",
    "    \n",
    "data_gen = DataGenerator()\n",
    "data_gen.train.tail()\n"
   ]
  },
  {
   "cell_type": "code",
   "execution_count": 50,
   "metadata": {},
   "outputs": [
    {
     "name": "stdout",
     "output_type": "stream",
     "text": [
      "25000\n51\n"
     ]
    }
   ],
   "source": [
    "print(len(data_gen.train))\n",
    "print(data_gen.train['review'][1].count('n'))"
   ]
  },
  {
   "cell_type": "code",
   "execution_count": null,
   "metadata": {},
   "outputs": [],
   "source": [
    "reviews = reviews.lower()\n",
    "all_text = ''.join([c for c in reviews if c not in punctuation])\n",
    "reviews_split = all_text.split('\\n')\n",
    "print ('Number of reviews :', len(reviews_split))"
   ]
  }
 ],
 "metadata": {
  "kernelspec": {
   "display_name": "Python 2",
   "language": "python",
   "name": "python2"
  },
  "language_info": {
   "codemirror_mode": {
    "name": "ipython",
    "version": 2
   },
   "file_extension": ".py",
   "mimetype": "text/x-python",
   "name": "python",
   "nbconvert_exporter": "python",
   "pygments_lexer": "ipython2",
   "version": "2.7.6"
  }
 },
 "nbformat": 4,
 "nbformat_minor": 0
}
