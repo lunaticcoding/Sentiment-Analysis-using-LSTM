{
 "cells": [
  {
   "cell_type": "code",
   "execution_count": 20,
   "metadata": {
    "collapsed": true
   },
   "outputs": [],
   "source": [
    "import numpy as np\n",
    "import pandas as pd\n",
    "import os\n",
    "\n",
    "import pandas as pd\n",
    "import matplotlib.pyplot as plt\n",
    "%matplotlib inline\n",
    "\n",
    "from string import punctuation\n",
    "from collections import Counter\n",
    "\n",
    "import tensorflow as tf\n",
    "from tensorflow.python.keras import Model\n",
    "\n"
   ]
  },
  {
   "cell_type": "code",
   "execution_count": null,
   "metadata": {},
   "outputs": [
    {
     "name": "stdout",
     "output_type": "stream",
     "text": [
      "data/train/pos.txt\n"
     ]
    },
    {
     "name": "stdout",
     "output_type": "stream",
     "text": [
      "data/train/neg.txt\n"
     ]
    },
    {
     "name": "stdout",
     "output_type": "stream",
     "text": [
      "data/test/pos.txt\n"
     ]
    },
    {
     "name": "stdout",
     "output_type": "stream",
     "text": [
      "data/test/neg.txt\n"
     ]
    }
   ],
   "source": [
    "def rearrange_data(train_test, label):\n",
    "    content = []\n",
    "    for filepath in os.listdir('data/' + train_test + '/' + label):\n",
    "        with open(('data/' + train_test + '/' + label + '/' + filepath), 'r') as file:\n",
    "            review = file.read()\n",
    "            content.append(review)\n",
    "    with open('data/' + train_test + '/' + label + '.txt', 'w') as target_file:\n",
    "        target_file.write('\\n'.join(content))\n",
    "        print(target_file.name)\n",
    "\n",
    "\n",
    "rearrange_data('train', 'pos')\n",
    "rearrange_data('train', 'neg')\n",
    "\n",
    "rearrange_data('test', 'pos')\n",
    "rearrange_data('test', 'neg')\n",
    "\n"
   ]
  },
  {
   "cell_type": "code",
   "execution_count": 15,
   "metadata": {},
   "outputs": [
    {
     "data": {
      "text/html": [
       "<div>\n",
       "<style scoped>\n",
       "    .dataframe tbody tr th:only-of-type {\n",
       "        vertical-align: middle;\n",
       "    }\n",
       "\n",
       "    .dataframe tbody tr th {\n",
       "        vertical-align: top;\n",
       "    }\n",
       "\n",
       "    .dataframe thead th {\n",
       "        text-align: right;\n",
       "    }\n",
       "</style>\n",
       "<table border=\"1\" class=\"dataframe\">\n",
       "  <thead>\n",
       "    <tr style=\"text-align: right;\">\n",
       "      <th></th>\n",
       "      <th>review</th>\n",
       "      <th>sentiment</th>\n",
       "    </tr>\n",
       "  </thead>\n",
       "  <tbody>\n",
       "    <tr>\n",
       "      <th>24995</th>\n",
       "      <td>my comments may be a bit of a spoiler, for wha...</td>\n",
       "      <td>-1</td>\n",
       "    </tr>\n",
       "    <tr>\n",
       "      <th>24996</th>\n",
       "      <td>the \"saucy\" misadventures of four au pairs who...</td>\n",
       "      <td>-1</td>\n",
       "    </tr>\n",
       "    <tr>\n",
       "      <th>24997</th>\n",
       "      <td>oh, those italians! assuming that movies about...</td>\n",
       "      <td>-1</td>\n",
       "    </tr>\n",
       "    <tr>\n",
       "      <th>24998</th>\n",
       "      <td>eight academy nominations? it's beyond belief....</td>\n",
       "      <td>-1</td>\n",
       "    </tr>\n",
       "    <tr>\n",
       "      <th>24999</th>\n",
       "      <td>not that i dislike childrens movies, but this ...</td>\n",
       "      <td>-1</td>\n",
       "    </tr>\n",
       "  </tbody>\n",
       "</table>\n",
       "</div>"
      ],
      "text/plain": [
       "<div>\n",
       "<style scoped>\n",
       "    .dataframe tbody tr th:only-of-type {\n",
       "        vertical-align: middle;\n",
       "    }\n",
       "\n",
       "    .dataframe tbody tr th {\n",
       "        vertical-align: top;\n",
       "    }\n",
       "\n",
       "    .dataframe thead th {\n",
       "        text-align: right;\n",
       "    }\n",
       "</style>\n",
       "<table border=\"1\" class=\"dataframe\">\n",
       "  <thead>\n",
       "    <tr style=\"text-align: right;\">\n",
       "      <th></th>\n",
       "      <th>review</th>\n",
       "      <th>sentiment</th>\n",
       "    </tr>\n",
       "  </thead>\n",
       "  <tbody>\n",
       "    <tr>\n",
       "      <th>24995</th>\n",
       "      <td>my comments may be a bit of a spoiler, for wha...</td>\n",
       "      <td>-1</td>\n",
       "    </tr>\n",
       "    <tr>\n",
       "      <th>24996</th>\n",
       "      <td>the \"saucy\" misadventures of four au pairs who...</td>\n",
       "      <td>-1</td>\n",
       "    </tr>\n",
       "    <tr>\n",
       "      <th>24997</th>\n",
       "      <td>oh, those italians! assuming that movies about...</td>\n",
       "      <td>-1</td>\n",
       "    </tr>\n",
       "    <tr>\n",
       "      <th>24998</th>\n",
       "      <td>eight academy nominations? it's beyond belief....</td>\n",
       "      <td>-1</td>\n",
       "    </tr>\n",
       "    <tr>\n",
       "      <th>24999</th>\n",
       "      <td>not that i dislike childrens movies, but this ...</td>\n",
       "      <td>-1</td>\n",
       "    </tr>\n",
       "  </tbody>\n",
       "</table>\n",
       "</div>"
      ]
     },
     "execution_count": 15,
     "metadata": {},
     "output_type": "execute_result"
    }
   ],
   "source": [
    "class DataGenerator():\n",
    "    def __init__(self):\n",
    "        self.train = pd.DataFrame(columns=['review', 'sentiment'])\n",
    "        self.train = self.train.append(self.create_df_from_filepath('train', 'pos.txt', 1), ignore_index=True)\n",
    "        self.train = self.train.append(self.create_df_from_filepath('train', 'neg.txt', -1), ignore_index=True)\n",
    "        \n",
    "        self.test = pd.DataFrame(columns=['review', 'sentiment'])\n",
    "        self.test = self.test.append(self.create_df_from_filepath('test', 'pos.txt', 1), ignore_index=True)\n",
    "        self.test = self.test.append(self.create_df_from_filepath('test', 'neg.txt', -1), ignore_index=True)\n",
    "        \n",
    "        self.preprocessing() \n",
    "        \n",
    "    @staticmethod\n",
    "    def create_df_from_filepath(train_test, filename, label):\n",
    "        with open('data/' + train_test + '/' + filename, 'r') as file:\n",
    "            review = file.read().split('\\n')\n",
    "            review = pd.DataFrame({'review': review})\n",
    "            review['sentiment'] = pd.Series(np.array([label]*len(review)), index=review.index)\n",
    "            return review\n",
    "        \n",
    "    def preprocessing(self):\n",
    "        self.train['review'] = self.train['review'].apply(lambda x: x.lower())\n",
    "        self.test['review'] = self.test['review'].apply(lambda x: ''.join([c for c in x if c not in punctuation]))\n",
    "\n",
    "        all_text = ' '.join(self.train['review'])\n",
    "        words = all_text.split()\n",
    "        count_words = Counter(words)\n",
    "        total_words = len(words)\n",
    "        sorted_words = count_words.most_common(total_words)\n",
    "\n",
    "        vocab_to_int = {w: i+1 for i, (w, c) in enumerate(sorted_words)}\n",
    "        \n",
    "        self.reviews_int = []\n",
    "        for review in self.train['review']:\n",
    "            r = [vocab_to_int[w] for w in review.split()]\n",
    "            self.reviews_int.append(r)\n",
    "    \n",
    "    \n",
    "data_gen = DataGenerator()\n",
    "data_gen.train.tail()\n"
   ]
  },
  {
   "cell_type": "code",
   "execution_count": 16,
   "metadata": {},
   "outputs": [
    {
     "data": {
      "image/png": "[encoded data removed]",
      "text/plain": [
       "<Figure size 432x288 with 1 Axes>"
      ]
     },
     "metadata": {},
     "output_type": "display_data"
    },
    {
     "data": {
      "text/plain": [
       "count    25000.000000\nmean       233.787200\nstd        173.733032\nmin         10.000000\n25%        127.000000\n50%        174.000000\n75%        284.000000\nmax       2470.000000\ndtype: float64"
      ]
     },
     "execution_count": 16,
     "metadata": {},
     "output_type": "execute_result"
    }
   ],
   "source": [
    "reviews_len = [len(x) for x in data_gen.reviews_int]\n",
    "pd.Series(reviews_len).hist()\n",
    "plt.show()\n",
    "pd.Series(reviews_len).describe()"
   ]
  },
  {
   "cell_type": "code",
   "execution_count": 17,
   "metadata": {},
   "outputs": [],
   "source": [
    "reviews_int = [data_gen.reviews_int[i] for i, l in enumerate(reviews_len) if l > 0]\n",
    "encoded_labels = [data_gen.train['sentiment'][i] for i, l in enumerate(reviews_len) if l > 0]\n"
   ]
  },
  {
   "cell_type": "code",
   "execution_count": 18,
   "metadata": {},
   "outputs": [],
   "source": [
    "def pad_features(reviews_int, seq_length):\n",
    "    ''' Return features of review_ints, where each review is padded with 0's or truncated to the input seq_length.\n",
    "    '''\n",
    "    features = np.zeros((len(reviews_int), seq_length), dtype=int)\n",
    "    \n",
    "    for i, review in enumerate(reviews_int):\n",
    "        review_len = len(review)\n",
    "        \n",
    "        if review_len <= seq_length:\n",
    "            zeroes = list(np.zeros(seq_length-review_len))\n",
    "            new = zeroes+review\n",
    "        elif review_len > seq_length:\n",
    "            new = review[0:seq_length]\n",
    "        \n",
    "        features[i, :] = np.array(new)\n",
    "    \n",
    "    return features\n"
   ]
  },
  {
   "cell_type": "code",
   "execution_count": 19,
   "metadata": {},
   "outputs": [
    {
     "name": "stdout",
     "output_type": "stream",
     "text": [
      "[[    0     0     0 ...     2   564  9044]\n [    0     0     0 ... 15979    33  2341]\n [    0     0     0 ...  9840     1 69434]\n ...\n [    0     0     0 ...     5    56   665]\n [    0     0     0 ...   106   266  2146]\n [    0     0     0 ... 12645    12   710]]\n"
     ]
    }
   ],
   "source": [
    "features = pad_features(data_gen.reviews_int, 500)\n",
    "print(features[:10, :])\n"
   ]
  },
  {
   "cell_type": "code",
   "execution_count": null,
   "metadata": {},
   "outputs": [],
   "source": [
    "class LSTMNetwork(Model):\n",
    "    "
   ]
  }
 ],
 "metadata": {
  "kernelspec": {
   "display_name": "Python 2",
   "language": "python",
   "name": "python2"
  },
  "language_info": {
   "codemirror_mode": {
    "name": "ipython",
    "version": 2
   },
   "file_extension": ".py",
   "mimetype": "text/x-python",
   "name": "python",
   "nbconvert_exporter": "python",
   "pygments_lexer": "ipython2",
   "version": "2.7.6"
  }
 },
 "nbformat": 4,
 "nbformat_minor": 0
}
